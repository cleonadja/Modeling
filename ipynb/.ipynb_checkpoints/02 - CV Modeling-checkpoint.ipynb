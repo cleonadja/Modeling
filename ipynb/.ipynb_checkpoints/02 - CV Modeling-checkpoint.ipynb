{
 "cells": [
  {
   "cell_type": "markdown",
   "metadata": {},
   "source": [
    "# Gridsearch CV"
   ]
  },
  {
   "cell_type": "code",
   "execution_count": 1,
   "metadata": {},
   "outputs": [],
   "source": [
    "import matplotlib.pyplot as plt\n",
    "import numpy as np\n",
    "import pandas as pd\n",
    "import seaborn as sns"
   ]
  },
  {
   "cell_type": "code",
   "execution_count": 2,
   "metadata": {},
   "outputs": [],
   "source": [
    "from sklearn.linear_model import Ridge\n",
    "from sklearn.neighbors import KNeighborsClassifier\n",
    "from sklearn.tree import DecisionTreeClassifier\n",
    "from sklearn.linear_model import Lasso\n",
    "from sklearn.svm import SVR"
   ]
  },
  {
   "cell_type": "code",
   "execution_count": 3,
   "metadata": {},
   "outputs": [
    {
     "name": "stdout",
     "output_type": "stream",
     "text": [
      "/home/jovyan/Modeling\n"
     ]
    }
   ],
   "source": [
    "cd .."
   ]
  },
  {
   "cell_type": "code",
   "execution_count": 4,
   "metadata": {},
   "outputs": [],
   "source": [
    "run src/load_data.py"
   ]
  },
  {
   "cell_type": "code",
   "execution_count": 5,
   "metadata": {},
   "outputs": [],
   "source": [
    "from sklearn.model_selection import train_test_split\n",
    "X = housing_df.drop('SalePrice', axis=1)\n",
    "y = housing_df['SalePrice']"
   ]
  },
  {
   "cell_type": "code",
   "execution_count": 6,
   "metadata": {},
   "outputs": [],
   "source": [
    "np.random.seed(42)"
   ]
  },
  {
   "cell_type": "code",
   "execution_count": 7,
   "metadata": {},
   "outputs": [],
   "source": [
    "X_train, X_test, y_train, y_test = train_test_split(X,y)"
   ]
  },
  {
   "cell_type": "code",
   "execution_count": 8,
   "metadata": {},
   "outputs": [],
   "source": [
    "import matplotlib.pyplot as plt\n",
    "%matplotlib inline"
   ]
  },
  {
   "cell_type": "code",
   "execution_count": 9,
   "metadata": {},
   "outputs": [],
   "source": [
    "from sklearn.model_selection import GridSearchCV, ShuffleSplit, StratifiedShuffleSplit"
   ]
  },
  {
   "cell_type": "markdown",
   "metadata": {},
   "source": [
    "## CV with Ridge"
   ]
  },
  {
   "cell_type": "code",
   "execution_count": 10,
   "metadata": {},
   "outputs": [],
   "source": [
    "ridge_params = {\n",
    "    'alpha':np.logspace(0,10,10),\n",
    "    'normalize':['l2','l1']\n",
    "}"
   ]
  },
  {
   "cell_type": "code",
   "execution_count": 11,
   "metadata": {},
   "outputs": [],
   "source": [
    "ridge_gs = GridSearchCV(Ridge(),param_grid=ridge_params, cv=10)\n"
   ]
  },
  {
   "cell_type": "code",
   "execution_count": 12,
   "metadata": {},
   "outputs": [
    {
     "data": {
      "text/plain": [
       "GridSearchCV(cv=10, error_score='raise',\n",
       "       estimator=Ridge(alpha=1.0, copy_X=True, fit_intercept=True, max_iter=None,\n",
       "   normalize=False, random_state=None, solver='auto', tol=0.001),\n",
       "       fit_params=None, iid=True, n_jobs=1,\n",
       "       param_grid={'alpha': array([  1.00000e+00,   1.29155e+01,   1.66810e+02,   2.15443e+03,\n",
       "         2.78256e+04,   3.59381e+05,   4.64159e+06,   5.99484e+07,\n",
       "         7.74264e+08,   1.00000e+10]), 'normalize': ['l2', 'l1']},\n",
       "       pre_dispatch='2*n_jobs', refit=True, return_train_score='warn',\n",
       "       scoring=None, verbose=0)"
      ]
     },
     "execution_count": 12,
     "metadata": {},
     "output_type": "execute_result"
    }
   ],
   "source": [
    "ridge_gs.fit(X_train, y_train)"
   ]
  },
  {
   "cell_type": "code",
   "execution_count": 13,
   "metadata": {},
   "outputs": [
    {
     "data": {
      "text/plain": [
       "(0.90419681169747246, 0.90007173824267561)"
      ]
     },
     "execution_count": 13,
     "metadata": {},
     "output_type": "execute_result"
    }
   ],
   "source": [
    "ridge_gs.score(X_train, y_train), ridge_gs.score(X_test, y_test)"
   ]
  },
  {
   "cell_type": "code",
   "execution_count": 14,
   "metadata": {},
   "outputs": [
    {
     "name": "stderr",
     "output_type": "stream",
     "text": [
      "/opt/conda/lib/python3.6/site-packages/sklearn/utils/deprecation.py:122: FutureWarning: You are accessing a training score ('mean_train_score'), which will not be available by default any more in 0.21. If you need training scores, please set return_train_score=True\n",
      "  warnings.warn(*warn_args, **warn_kwargs)\n",
      "/opt/conda/lib/python3.6/site-packages/sklearn/utils/deprecation.py:122: FutureWarning: You are accessing a training score ('split0_train_score'), which will not be available by default any more in 0.21. If you need training scores, please set return_train_score=True\n",
      "  warnings.warn(*warn_args, **warn_kwargs)\n",
      "/opt/conda/lib/python3.6/site-packages/sklearn/utils/deprecation.py:122: FutureWarning: You are accessing a training score ('split1_train_score'), which will not be available by default any more in 0.21. If you need training scores, please set return_train_score=True\n",
      "  warnings.warn(*warn_args, **warn_kwargs)\n",
      "/opt/conda/lib/python3.6/site-packages/sklearn/utils/deprecation.py:122: FutureWarning: You are accessing a training score ('split2_train_score'), which will not be available by default any more in 0.21. If you need training scores, please set return_train_score=True\n",
      "  warnings.warn(*warn_args, **warn_kwargs)\n",
      "/opt/conda/lib/python3.6/site-packages/sklearn/utils/deprecation.py:122: FutureWarning: You are accessing a training score ('split3_train_score'), which will not be available by default any more in 0.21. If you need training scores, please set return_train_score=True\n",
      "  warnings.warn(*warn_args, **warn_kwargs)\n",
      "/opt/conda/lib/python3.6/site-packages/sklearn/utils/deprecation.py:122: FutureWarning: You are accessing a training score ('split4_train_score'), which will not be available by default any more in 0.21. If you need training scores, please set return_train_score=True\n",
      "  warnings.warn(*warn_args, **warn_kwargs)\n",
      "/opt/conda/lib/python3.6/site-packages/sklearn/utils/deprecation.py:122: FutureWarning: You are accessing a training score ('split5_train_score'), which will not be available by default any more in 0.21. If you need training scores, please set return_train_score=True\n",
      "  warnings.warn(*warn_args, **warn_kwargs)\n",
      "/opt/conda/lib/python3.6/site-packages/sklearn/utils/deprecation.py:122: FutureWarning: You are accessing a training score ('split6_train_score'), which will not be available by default any more in 0.21. If you need training scores, please set return_train_score=True\n",
      "  warnings.warn(*warn_args, **warn_kwargs)\n",
      "/opt/conda/lib/python3.6/site-packages/sklearn/utils/deprecation.py:122: FutureWarning: You are accessing a training score ('split7_train_score'), which will not be available by default any more in 0.21. If you need training scores, please set return_train_score=True\n",
      "  warnings.warn(*warn_args, **warn_kwargs)\n",
      "/opt/conda/lib/python3.6/site-packages/sklearn/utils/deprecation.py:122: FutureWarning: You are accessing a training score ('split8_train_score'), which will not be available by default any more in 0.21. If you need training scores, please set return_train_score=True\n",
      "  warnings.warn(*warn_args, **warn_kwargs)\n",
      "/opt/conda/lib/python3.6/site-packages/sklearn/utils/deprecation.py:122: FutureWarning: You are accessing a training score ('split9_train_score'), which will not be available by default any more in 0.21. If you need training scores, please set return_train_score=True\n",
      "  warnings.warn(*warn_args, **warn_kwargs)\n",
      "/opt/conda/lib/python3.6/site-packages/sklearn/utils/deprecation.py:122: FutureWarning: You are accessing a training score ('std_train_score'), which will not be available by default any more in 0.21. If you need training scores, please set return_train_score=True\n",
      "  warnings.warn(*warn_args, **warn_kwargs)\n"
     ]
    },
    {
     "data": {
      "text/html": [
       "<div>\n",
       "<style scoped>\n",
       "    .dataframe tbody tr th:only-of-type {\n",
       "        vertical-align: middle;\n",
       "    }\n",
       "\n",
       "    .dataframe tbody tr th {\n",
       "        vertical-align: top;\n",
       "    }\n",
       "\n",
       "    .dataframe thead th {\n",
       "        text-align: right;\n",
       "    }\n",
       "</style>\n",
       "<table border=\"1\" class=\"dataframe\">\n",
       "  <thead>\n",
       "    <tr style=\"text-align: right;\">\n",
       "      <th></th>\n",
       "      <th>mean_fit_time</th>\n",
       "      <th>mean_score_time</th>\n",
       "      <th>mean_test_score</th>\n",
       "      <th>mean_train_score</th>\n",
       "      <th>param_alpha</th>\n",
       "      <th>param_normalize</th>\n",
       "      <th>params</th>\n",
       "      <th>rank_test_score</th>\n",
       "      <th>split0_test_score</th>\n",
       "      <th>split0_train_score</th>\n",
       "      <th>...</th>\n",
       "      <th>split7_test_score</th>\n",
       "      <th>split7_train_score</th>\n",
       "      <th>split8_test_score</th>\n",
       "      <th>split8_train_score</th>\n",
       "      <th>split9_test_score</th>\n",
       "      <th>split9_train_score</th>\n",
       "      <th>std_fit_time</th>\n",
       "      <th>std_score_time</th>\n",
       "      <th>std_test_score</th>\n",
       "      <th>std_train_score</th>\n",
       "    </tr>\n",
       "  </thead>\n",
       "  <tbody>\n",
       "    <tr>\n",
       "      <th>0</th>\n",
       "      <td>0.014532</td>\n",
       "      <td>0.000686</td>\n",
       "      <td>0.808854</td>\n",
       "      <td>0.907623</td>\n",
       "      <td>1</td>\n",
       "      <td>l2</td>\n",
       "      <td>{'alpha': 1.0, 'normalize': 'l2'}</td>\n",
       "      <td>1</td>\n",
       "      <td>0.306355</td>\n",
       "      <td>0.926246</td>\n",
       "      <td>...</td>\n",
       "      <td>0.851378</td>\n",
       "      <td>0.905051</td>\n",
       "      <td>0.869156</td>\n",
       "      <td>0.906340</td>\n",
       "      <td>0.923472</td>\n",
       "      <td>0.903629</td>\n",
       "      <td>0.000953</td>\n",
       "      <td>0.000049</td>\n",
       "      <td>0.172479</td>\n",
       "      <td>0.006673</td>\n",
       "    </tr>\n",
       "    <tr>\n",
       "      <th>1</th>\n",
       "      <td>0.014045</td>\n",
       "      <td>0.000656</td>\n",
       "      <td>0.808854</td>\n",
       "      <td>0.907623</td>\n",
       "      <td>1</td>\n",
       "      <td>l1</td>\n",
       "      <td>{'alpha': 1.0, 'normalize': 'l1'}</td>\n",
       "      <td>1</td>\n",
       "      <td>0.306355</td>\n",
       "      <td>0.926246</td>\n",
       "      <td>...</td>\n",
       "      <td>0.851378</td>\n",
       "      <td>0.905051</td>\n",
       "      <td>0.869156</td>\n",
       "      <td>0.906340</td>\n",
       "      <td>0.923472</td>\n",
       "      <td>0.903629</td>\n",
       "      <td>0.000093</td>\n",
       "      <td>0.000005</td>\n",
       "      <td>0.172479</td>\n",
       "      <td>0.006673</td>\n",
       "    </tr>\n",
       "    <tr>\n",
       "      <th>2</th>\n",
       "      <td>0.014125</td>\n",
       "      <td>0.000677</td>\n",
       "      <td>0.644952</td>\n",
       "      <td>0.664301</td>\n",
       "      <td>12.9155</td>\n",
       "      <td>l2</td>\n",
       "      <td>{'alpha': 12.9154966501, 'normalize': 'l2'}</td>\n",
       "      <td>3</td>\n",
       "      <td>0.544250</td>\n",
       "      <td>0.687095</td>\n",
       "      <td>...</td>\n",
       "      <td>0.594151</td>\n",
       "      <td>0.663982</td>\n",
       "      <td>0.677480</td>\n",
       "      <td>0.659748</td>\n",
       "      <td>0.768594</td>\n",
       "      <td>0.656306</td>\n",
       "      <td>0.000196</td>\n",
       "      <td>0.000047</td>\n",
       "      <td>0.075397</td>\n",
       "      <td>0.008474</td>\n",
       "    </tr>\n",
       "    <tr>\n",
       "      <th>3</th>\n",
       "      <td>0.014020</td>\n",
       "      <td>0.000663</td>\n",
       "      <td>0.644952</td>\n",
       "      <td>0.664301</td>\n",
       "      <td>12.9155</td>\n",
       "      <td>l1</td>\n",
       "      <td>{'alpha': 12.9154966501, 'normalize': 'l1'}</td>\n",
       "      <td>3</td>\n",
       "      <td>0.544250</td>\n",
       "      <td>0.687095</td>\n",
       "      <td>...</td>\n",
       "      <td>0.594151</td>\n",
       "      <td>0.663982</td>\n",
       "      <td>0.677480</td>\n",
       "      <td>0.659748</td>\n",
       "      <td>0.768594</td>\n",
       "      <td>0.656306</td>\n",
       "      <td>0.000115</td>\n",
       "      <td>0.000012</td>\n",
       "      <td>0.075397</td>\n",
       "      <td>0.008474</td>\n",
       "    </tr>\n",
       "    <tr>\n",
       "      <th>4</th>\n",
       "      <td>0.014081</td>\n",
       "      <td>0.000657</td>\n",
       "      <td>0.142972</td>\n",
       "      <td>0.149411</td>\n",
       "      <td>166.81</td>\n",
       "      <td>l2</td>\n",
       "      <td>{'alpha': 166.81005372, 'normalize': 'l2'}</td>\n",
       "      <td>5</td>\n",
       "      <td>0.143709</td>\n",
       "      <td>0.153180</td>\n",
       "      <td>...</td>\n",
       "      <td>0.126216</td>\n",
       "      <td>0.149808</td>\n",
       "      <td>0.144010</td>\n",
       "      <td>0.148111</td>\n",
       "      <td>0.171127</td>\n",
       "      <td>0.146590</td>\n",
       "      <td>0.000325</td>\n",
       "      <td>0.000015</td>\n",
       "      <td>0.018639</td>\n",
       "      <td>0.002391</td>\n",
       "    </tr>\n",
       "  </tbody>\n",
       "</table>\n",
       "<p>5 rows × 32 columns</p>\n",
       "</div>"
      ],
      "text/plain": [
       "   mean_fit_time  mean_score_time  mean_test_score  mean_train_score  \\\n",
       "0       0.014532         0.000686         0.808854          0.907623   \n",
       "1       0.014045         0.000656         0.808854          0.907623   \n",
       "2       0.014125         0.000677         0.644952          0.664301   \n",
       "3       0.014020         0.000663         0.644952          0.664301   \n",
       "4       0.014081         0.000657         0.142972          0.149411   \n",
       "\n",
       "  param_alpha param_normalize                                       params  \\\n",
       "0           1              l2            {'alpha': 1.0, 'normalize': 'l2'}   \n",
       "1           1              l1            {'alpha': 1.0, 'normalize': 'l1'}   \n",
       "2     12.9155              l2  {'alpha': 12.9154966501, 'normalize': 'l2'}   \n",
       "3     12.9155              l1  {'alpha': 12.9154966501, 'normalize': 'l1'}   \n",
       "4      166.81              l2   {'alpha': 166.81005372, 'normalize': 'l2'}   \n",
       "\n",
       "   rank_test_score  split0_test_score  split0_train_score       ...         \\\n",
       "0                1           0.306355            0.926246       ...          \n",
       "1                1           0.306355            0.926246       ...          \n",
       "2                3           0.544250            0.687095       ...          \n",
       "3                3           0.544250            0.687095       ...          \n",
       "4                5           0.143709            0.153180       ...          \n",
       "\n",
       "   split7_test_score  split7_train_score  split8_test_score  \\\n",
       "0           0.851378            0.905051           0.869156   \n",
       "1           0.851378            0.905051           0.869156   \n",
       "2           0.594151            0.663982           0.677480   \n",
       "3           0.594151            0.663982           0.677480   \n",
       "4           0.126216            0.149808           0.144010   \n",
       "\n",
       "   split8_train_score  split9_test_score  split9_train_score  std_fit_time  \\\n",
       "0            0.906340           0.923472            0.903629      0.000953   \n",
       "1            0.906340           0.923472            0.903629      0.000093   \n",
       "2            0.659748           0.768594            0.656306      0.000196   \n",
       "3            0.659748           0.768594            0.656306      0.000115   \n",
       "4            0.148111           0.171127            0.146590      0.000325   \n",
       "\n",
       "   std_score_time  std_test_score  std_train_score  \n",
       "0        0.000049        0.172479         0.006673  \n",
       "1        0.000005        0.172479         0.006673  \n",
       "2        0.000047        0.075397         0.008474  \n",
       "3        0.000012        0.075397         0.008474  \n",
       "4        0.000015        0.018639         0.002391  \n",
       "\n",
       "[5 rows x 32 columns]"
      ]
     },
     "execution_count": 14,
     "metadata": {},
     "output_type": "execute_result"
    }
   ],
   "source": [
    "ridge_cv_results = pd.DataFrame(ridge_gs.cv_results_)\n",
    "ridge_cv_results.head()"
   ]
  },
  {
   "cell_type": "code",
   "execution_count": 15,
   "metadata": {},
   "outputs": [
    {
     "data": {
      "text/plain": [
       "<matplotlib.legend.Legend at 0x7f077d3f3390>"
      ]
     },
     "execution_count": 15,
     "metadata": {},
     "output_type": "execute_result"
    },
    {
     "data": {
      "image/png": "[encoded data removed]",
      "text/plain": [
       "<matplotlib.figure.Figure at 0x7f077d487550>"
      ]
     },
     "metadata": {},
     "output_type": "display_data"
    }
   ],
   "source": [
    "plt.plot(ridge_cv_results.param_alpha, ridge_cv_results.mean_train_score, label='alpha training scores')\n",
    "plt.plot(ridge_cv_results.param_alpha, ridge_cv_results.mean_test_score, label='alpha testing scores')\n",
    "plt.xscale('log')\n",
    "plt.legend()"
   ]
  },
  {
   "cell_type": "code",
   "execution_count": 16,
   "metadata": {},
   "outputs": [
    {
     "data": {
      "text/plain": [
       "{'alpha': 1.0, 'normalize': 'l2'}"
      ]
     },
     "execution_count": 16,
     "metadata": {},
     "output_type": "execute_result"
    }
   ],
   "source": [
    "ridge_gs.best_params_"
   ]
  },
  {
   "cell_type": "raw",
   "metadata": {},
   "source": [
    "By setting the normalization to L2 we were able to imporve the score for the test data set from 0.89 to 0.90. Tuning the alpha value had no positive impact on the score as the default value of 1.0 is the best parameter for the model."
   ]
  },
  {
   "cell_type": "markdown",
   "metadata": {},
   "source": [
    "## CV with Lasso"
   ]
  },
  {
   "cell_type": "code",
   "execution_count": 17,
   "metadata": {},
   "outputs": [],
   "source": [
    "lasso_params = {\n",
    "    'alpha':np.logspace(0,20,10)\n",
    "}"
   ]
  },
  {
   "cell_type": "code",
   "execution_count": 18,
   "metadata": {},
   "outputs": [],
   "source": [
    "lasso_gs = GridSearchCV(Lasso(), param_grid= lasso_params, cv=10)"
   ]
  },
  {
   "cell_type": "code",
   "execution_count": 19,
   "metadata": {},
   "outputs": [
    {
     "name": "stderr",
     "output_type": "stream",
     "text": [
      "/opt/conda/lib/python3.6/site-packages/sklearn/linear_model/coordinate_descent.py:491: ConvergenceWarning: Objective did not converge. You might want to increase the number of iterations. Fitting data with very small alpha may cause precision problems.\n",
      "  ConvergenceWarning)\n",
      "/opt/conda/lib/python3.6/site-packages/sklearn/linear_model/coordinate_descent.py:491: ConvergenceWarning: Objective did not converge. You might want to increase the number of iterations. Fitting data with very small alpha may cause precision problems.\n",
      "  ConvergenceWarning)\n",
      "/opt/conda/lib/python3.6/site-packages/sklearn/linear_model/coordinate_descent.py:491: ConvergenceWarning: Objective did not converge. You might want to increase the number of iterations. Fitting data with very small alpha may cause precision problems.\n",
      "  ConvergenceWarning)\n",
      "/opt/conda/lib/python3.6/site-packages/sklearn/linear_model/coordinate_descent.py:491: ConvergenceWarning: Objective did not converge. You might want to increase the number of iterations. Fitting data with very small alpha may cause precision problems.\n",
      "  ConvergenceWarning)\n",
      "/opt/conda/lib/python3.6/site-packages/sklearn/linear_model/coordinate_descent.py:491: ConvergenceWarning: Objective did not converge. You might want to increase the number of iterations. Fitting data with very small alpha may cause precision problems.\n",
      "  ConvergenceWarning)\n",
      "/opt/conda/lib/python3.6/site-packages/sklearn/linear_model/coordinate_descent.py:491: ConvergenceWarning: Objective did not converge. You might want to increase the number of iterations. Fitting data with very small alpha may cause precision problems.\n",
      "  ConvergenceWarning)\n",
      "/opt/conda/lib/python3.6/site-packages/sklearn/linear_model/coordinate_descent.py:491: ConvergenceWarning: Objective did not converge. You might want to increase the number of iterations. Fitting data with very small alpha may cause precision problems.\n",
      "  ConvergenceWarning)\n",
      "/opt/conda/lib/python3.6/site-packages/sklearn/linear_model/coordinate_descent.py:491: ConvergenceWarning: Objective did not converge. You might want to increase the number of iterations. Fitting data with very small alpha may cause precision problems.\n",
      "  ConvergenceWarning)\n",
      "/opt/conda/lib/python3.6/site-packages/sklearn/linear_model/coordinate_descent.py:491: ConvergenceWarning: Objective did not converge. You might want to increase the number of iterations. Fitting data with very small alpha may cause precision problems.\n",
      "  ConvergenceWarning)\n",
      "/opt/conda/lib/python3.6/site-packages/sklearn/linear_model/coordinate_descent.py:491: ConvergenceWarning: Objective did not converge. You might want to increase the number of iterations. Fitting data with very small alpha may cause precision problems.\n",
      "  ConvergenceWarning)\n"
     ]
    },
    {
     "data": {
      "text/plain": [
       "GridSearchCV(cv=10, error_score='raise',\n",
       "       estimator=Lasso(alpha=1.0, copy_X=True, fit_intercept=True, max_iter=1000,\n",
       "   normalize=False, positive=False, precompute=False, random_state=None,\n",
       "   selection='cyclic', tol=0.0001, warm_start=False),\n",
       "       fit_params=None, iid=True, n_jobs=1,\n",
       "       param_grid={'alpha': array([  1.00000e+00,   1.66810e+02,   2.78256e+04,   4.64159e+06,\n",
       "         7.74264e+08,   1.29155e+11,   2.15443e+13,   3.59381e+15,\n",
       "         5.99484e+17,   1.00000e+20])},\n",
       "       pre_dispatch='2*n_jobs', refit=True, return_train_score='warn',\n",
       "       scoring=None, verbose=0)"
      ]
     },
     "execution_count": 19,
     "metadata": {},
     "output_type": "execute_result"
    }
   ],
   "source": [
    "lasso_gs.fit(X_train, y_train)"
   ]
  },
  {
   "cell_type": "code",
   "execution_count": 20,
   "metadata": {},
   "outputs": [
    {
     "data": {
      "text/plain": [
       "(0.91520048272023247, 0.91739824865495301)"
      ]
     },
     "execution_count": 20,
     "metadata": {},
     "output_type": "execute_result"
    }
   ],
   "source": [
    "lasso_gs.score(X_train, y_train), lasso_gs.score(X_test, y_test)"
   ]
  },
  {
   "cell_type": "code",
   "execution_count": 21,
   "metadata": {},
   "outputs": [
    {
     "name": "stderr",
     "output_type": "stream",
     "text": [
      "/opt/conda/lib/python3.6/site-packages/sklearn/utils/deprecation.py:122: FutureWarning: You are accessing a training score ('mean_train_score'), which will not be available by default any more in 0.21. If you need training scores, please set return_train_score=True\n",
      "  warnings.warn(*warn_args, **warn_kwargs)\n",
      "/opt/conda/lib/python3.6/site-packages/sklearn/utils/deprecation.py:122: FutureWarning: You are accessing a training score ('split0_train_score'), which will not be available by default any more in 0.21. If you need training scores, please set return_train_score=True\n",
      "  warnings.warn(*warn_args, **warn_kwargs)\n",
      "/opt/conda/lib/python3.6/site-packages/sklearn/utils/deprecation.py:122: FutureWarning: You are accessing a training score ('split1_train_score'), which will not be available by default any more in 0.21. If you need training scores, please set return_train_score=True\n",
      "  warnings.warn(*warn_args, **warn_kwargs)\n",
      "/opt/conda/lib/python3.6/site-packages/sklearn/utils/deprecation.py:122: FutureWarning: You are accessing a training score ('split2_train_score'), which will not be available by default any more in 0.21. If you need training scores, please set return_train_score=True\n",
      "  warnings.warn(*warn_args, **warn_kwargs)\n",
      "/opt/conda/lib/python3.6/site-packages/sklearn/utils/deprecation.py:122: FutureWarning: You are accessing a training score ('split3_train_score'), which will not be available by default any more in 0.21. If you need training scores, please set return_train_score=True\n",
      "  warnings.warn(*warn_args, **warn_kwargs)\n",
      "/opt/conda/lib/python3.6/site-packages/sklearn/utils/deprecation.py:122: FutureWarning: You are accessing a training score ('split4_train_score'), which will not be available by default any more in 0.21. If you need training scores, please set return_train_score=True\n",
      "  warnings.warn(*warn_args, **warn_kwargs)\n",
      "/opt/conda/lib/python3.6/site-packages/sklearn/utils/deprecation.py:122: FutureWarning: You are accessing a training score ('split5_train_score'), which will not be available by default any more in 0.21. If you need training scores, please set return_train_score=True\n",
      "  warnings.warn(*warn_args, **warn_kwargs)\n",
      "/opt/conda/lib/python3.6/site-packages/sklearn/utils/deprecation.py:122: FutureWarning: You are accessing a training score ('split6_train_score'), which will not be available by default any more in 0.21. If you need training scores, please set return_train_score=True\n",
      "  warnings.warn(*warn_args, **warn_kwargs)\n",
      "/opt/conda/lib/python3.6/site-packages/sklearn/utils/deprecation.py:122: FutureWarning: You are accessing a training score ('split7_train_score'), which will not be available by default any more in 0.21. If you need training scores, please set return_train_score=True\n",
      "  warnings.warn(*warn_args, **warn_kwargs)\n",
      "/opt/conda/lib/python3.6/site-packages/sklearn/utils/deprecation.py:122: FutureWarning: You are accessing a training score ('split8_train_score'), which will not be available by default any more in 0.21. If you need training scores, please set return_train_score=True\n",
      "  warnings.warn(*warn_args, **warn_kwargs)\n",
      "/opt/conda/lib/python3.6/site-packages/sklearn/utils/deprecation.py:122: FutureWarning: You are accessing a training score ('split9_train_score'), which will not be available by default any more in 0.21. If you need training scores, please set return_train_score=True\n",
      "  warnings.warn(*warn_args, **warn_kwargs)\n",
      "/opt/conda/lib/python3.6/site-packages/sklearn/utils/deprecation.py:122: FutureWarning: You are accessing a training score ('std_train_score'), which will not be available by default any more in 0.21. If you need training scores, please set return_train_score=True\n",
      "  warnings.warn(*warn_args, **warn_kwargs)\n"
     ]
    },
    {
     "data": {
      "text/html": [
       "<div>\n",
       "<style scoped>\n",
       "    .dataframe tbody tr th:only-of-type {\n",
       "        vertical-align: middle;\n",
       "    }\n",
       "\n",
       "    .dataframe tbody tr th {\n",
       "        vertical-align: top;\n",
       "    }\n",
       "\n",
       "    .dataframe thead th {\n",
       "        text-align: right;\n",
       "    }\n",
       "</style>\n",
       "<table border=\"1\" class=\"dataframe\">\n",
       "  <thead>\n",
       "    <tr style=\"text-align: right;\">\n",
       "      <th></th>\n",
       "      <th>mean_fit_time</th>\n",
       "      <th>mean_score_time</th>\n",
       "      <th>mean_test_score</th>\n",
       "      <th>mean_train_score</th>\n",
       "      <th>param_alpha</th>\n",
       "      <th>params</th>\n",
       "      <th>rank_test_score</th>\n",
       "      <th>split0_test_score</th>\n",
       "      <th>split0_train_score</th>\n",
       "      <th>split1_test_score</th>\n",
       "      <th>...</th>\n",
       "      <th>split7_test_score</th>\n",
       "      <th>split7_train_score</th>\n",
       "      <th>split8_test_score</th>\n",
       "      <th>split8_train_score</th>\n",
       "      <th>split9_test_score</th>\n",
       "      <th>split9_train_score</th>\n",
       "      <th>std_fit_time</th>\n",
       "      <th>std_score_time</th>\n",
       "      <th>std_test_score</th>\n",
       "      <th>std_train_score</th>\n",
       "    </tr>\n",
       "  </thead>\n",
       "  <tbody>\n",
       "    <tr>\n",
       "      <th>0</th>\n",
       "      <td>0.248305</td>\n",
       "      <td>0.001027</td>\n",
       "      <td>0.737745</td>\n",
       "      <td>0.949406</td>\n",
       "      <td>1</td>\n",
       "      <td>{'alpha': 1.0}</td>\n",
       "      <td>2</td>\n",
       "      <td>-0.205306</td>\n",
       "      <td>0.955908</td>\n",
       "      <td>0.877266</td>\n",
       "      <td>...</td>\n",
       "      <td>0.889644</td>\n",
       "      <td>0.947554</td>\n",
       "      <td>0.797251</td>\n",
       "      <td>0.947890</td>\n",
       "      <td>0.862920</td>\n",
       "      <td>0.946283</td>\n",
       "      <td>0.017090</td>\n",
       "      <td>0.000055</td>\n",
       "      <td>0.325295</td>\n",
       "      <td>0.004640</td>\n",
       "    </tr>\n",
       "    <tr>\n",
       "      <th>1</th>\n",
       "      <td>0.052920</td>\n",
       "      <td>0.000633</td>\n",
       "      <td>0.778523</td>\n",
       "      <td>0.919298</td>\n",
       "      <td>166.81</td>\n",
       "      <td>{'alpha': 166.81005372}</td>\n",
       "      <td>1</td>\n",
       "      <td>-0.184363</td>\n",
       "      <td>0.935407</td>\n",
       "      <td>0.898603</td>\n",
       "      <td>...</td>\n",
       "      <td>0.885035</td>\n",
       "      <td>0.918273</td>\n",
       "      <td>0.913308</td>\n",
       "      <td>0.916979</td>\n",
       "      <td>0.942445</td>\n",
       "      <td>0.915132</td>\n",
       "      <td>0.011986</td>\n",
       "      <td>0.000038</td>\n",
       "      <td>0.323954</td>\n",
       "      <td>0.006433</td>\n",
       "    </tr>\n",
       "    <tr>\n",
       "      <th>2</th>\n",
       "      <td>0.060829</td>\n",
       "      <td>0.000680</td>\n",
       "      <td>0.649566</td>\n",
       "      <td>0.732599</td>\n",
       "      <td>27825.6</td>\n",
       "      <td>{'alpha': 27825.5940221}</td>\n",
       "      <td>3</td>\n",
       "      <td>-0.418744</td>\n",
       "      <td>0.816572</td>\n",
       "      <td>0.840485</td>\n",
       "      <td>...</td>\n",
       "      <td>0.753755</td>\n",
       "      <td>0.723807</td>\n",
       "      <td>0.792836</td>\n",
       "      <td>0.719656</td>\n",
       "      <td>0.797738</td>\n",
       "      <td>0.722044</td>\n",
       "      <td>0.013143</td>\n",
       "      <td>0.000036</td>\n",
       "      <td>0.360458</td>\n",
       "      <td>0.028410</td>\n",
       "    </tr>\n",
       "    <tr>\n",
       "      <th>3</th>\n",
       "      <td>0.006148</td>\n",
       "      <td>0.000584</td>\n",
       "      <td>0.538608</td>\n",
       "      <td>0.579326</td>\n",
       "      <td>4.64159e+06</td>\n",
       "      <td>{'alpha': 4641588.83361}</td>\n",
       "      <td>4</td>\n",
       "      <td>-0.174710</td>\n",
       "      <td>0.681879</td>\n",
       "      <td>0.662219</td>\n",
       "      <td>...</td>\n",
       "      <td>0.613977</td>\n",
       "      <td>0.564789</td>\n",
       "      <td>0.590254</td>\n",
       "      <td>0.571983</td>\n",
       "      <td>0.619028</td>\n",
       "      <td>0.572185</td>\n",
       "      <td>0.000054</td>\n",
       "      <td>0.000018</td>\n",
       "      <td>0.242764</td>\n",
       "      <td>0.034733</td>\n",
       "    </tr>\n",
       "    <tr>\n",
       "      <th>4</th>\n",
       "      <td>0.004874</td>\n",
       "      <td>0.000629</td>\n",
       "      <td>-0.006614</td>\n",
       "      <td>0.000000</td>\n",
       "      <td>7.74264e+08</td>\n",
       "      <td>{'alpha': 774263682.681}</td>\n",
       "      <td>5</td>\n",
       "      <td>-0.000497</td>\n",
       "      <td>0.000000</td>\n",
       "      <td>-0.004015</td>\n",
       "      <td>...</td>\n",
       "      <td>-0.003363</td>\n",
       "      <td>0.000000</td>\n",
       "      <td>-0.006643</td>\n",
       "      <td>0.000000</td>\n",
       "      <td>-0.014381</td>\n",
       "      <td>0.000000</td>\n",
       "      <td>0.000062</td>\n",
       "      <td>0.000160</td>\n",
       "      <td>0.004375</td>\n",
       "      <td>0.000000</td>\n",
       "    </tr>\n",
       "  </tbody>\n",
       "</table>\n",
       "<p>5 rows × 31 columns</p>\n",
       "</div>"
      ],
      "text/plain": [
       "   mean_fit_time  mean_score_time  mean_test_score  mean_train_score  \\\n",
       "0       0.248305         0.001027         0.737745          0.949406   \n",
       "1       0.052920         0.000633         0.778523          0.919298   \n",
       "2       0.060829         0.000680         0.649566          0.732599   \n",
       "3       0.006148         0.000584         0.538608          0.579326   \n",
       "4       0.004874         0.000629        -0.006614          0.000000   \n",
       "\n",
       "   param_alpha                    params  rank_test_score  split0_test_score  \\\n",
       "0            1            {'alpha': 1.0}                2          -0.205306   \n",
       "1       166.81   {'alpha': 166.81005372}                1          -0.184363   \n",
       "2      27825.6  {'alpha': 27825.5940221}                3          -0.418744   \n",
       "3  4.64159e+06  {'alpha': 4641588.83361}                4          -0.174710   \n",
       "4  7.74264e+08  {'alpha': 774263682.681}                5          -0.000497   \n",
       "\n",
       "   split0_train_score  split1_test_score       ...         split7_test_score  \\\n",
       "0            0.955908           0.877266       ...                  0.889644   \n",
       "1            0.935407           0.898603       ...                  0.885035   \n",
       "2            0.816572           0.840485       ...                  0.753755   \n",
       "3            0.681879           0.662219       ...                  0.613977   \n",
       "4            0.000000          -0.004015       ...                 -0.003363   \n",
       "\n",
       "   split7_train_score  split8_test_score  split8_train_score  \\\n",
       "0            0.947554           0.797251            0.947890   \n",
       "1            0.918273           0.913308            0.916979   \n",
       "2            0.723807           0.792836            0.719656   \n",
       "3            0.564789           0.590254            0.571983   \n",
       "4            0.000000          -0.006643            0.000000   \n",
       "\n",
       "   split9_test_score  split9_train_score  std_fit_time  std_score_time  \\\n",
       "0           0.862920            0.946283      0.017090        0.000055   \n",
       "1           0.942445            0.915132      0.011986        0.000038   \n",
       "2           0.797738            0.722044      0.013143        0.000036   \n",
       "3           0.619028            0.572185      0.000054        0.000018   \n",
       "4          -0.014381            0.000000      0.000062        0.000160   \n",
       "\n",
       "   std_test_score  std_train_score  \n",
       "0        0.325295         0.004640  \n",
       "1        0.323954         0.006433  \n",
       "2        0.360458         0.028410  \n",
       "3        0.242764         0.034733  \n",
       "4        0.004375         0.000000  \n",
       "\n",
       "[5 rows x 31 columns]"
      ]
     },
     "execution_count": 21,
     "metadata": {},
     "output_type": "execute_result"
    }
   ],
   "source": [
    "lasso_cv_results = pd.DataFrame(lasso_gs.cv_results_)\n",
    "lasso_cv_results.head()"
   ]
  },
  {
   "cell_type": "code",
   "execution_count": 22,
   "metadata": {},
   "outputs": [
    {
     "data": {
      "text/plain": [
       "<matplotlib.legend.Legend at 0x7f077d269550>"
      ]
     },
     "execution_count": 22,
     "metadata": {},
     "output_type": "execute_result"
    },
    {
     "data": {
      "image/png": "[encoded data removed]",
      "text/plain": [
       "<matplotlib.figure.Figure at 0x7f077d2b5860>"
      ]
     },
     "metadata": {},
     "output_type": "display_data"
    }
   ],
   "source": [
    "plt.plot(lasso_cv_results.param_alpha, lasso_cv_results.mean_train_score, label='alpha training scores')\n",
    "plt.plot(lasso_cv_results.param_alpha, lasso_cv_results.mean_test_score, label='alpha testing scores')\n",
    "plt.xscale('log')\n",
    "plt.legend()"
   ]
  },
  {
   "cell_type": "code",
   "execution_count": 23,
   "metadata": {},
   "outputs": [
    {
     "data": {
      "text/plain": [
       "{'alpha': 166.81005372000593}"
      ]
     },
     "execution_count": 23,
     "metadata": {},
     "output_type": "execute_result"
    }
   ],
   "source": [
    "lasso_gs.best_params_"
   ]
  },
  {
   "cell_type": "markdown",
   "metadata": {},
   "source": [
    "By tuning the alpha parameter we were able to improve the scroe on the test data set from 0.86 to 0.91. Adding normalization L1 or L2 did not have a positive impact on the score and we reverted back to the default of no normalization. The best alpha parameter for the model is 166.81."
   ]
  },
  {
   "cell_type": "markdown",
   "metadata": {},
   "source": [
    "## CV with SVR"
   ]
  },
  {
   "cell_type": "code",
   "execution_count": 24,
   "metadata": {},
   "outputs": [],
   "source": [
    "X = numeric_log_sc_df.drop('SalePrice', axis=1)\n",
    "y = numeric_log_sc_df['SalePrice']"
   ]
  },
  {
   "cell_type": "code",
   "execution_count": 25,
   "metadata": {},
   "outputs": [],
   "source": [
    "np.random.seed(42)"
   ]
  },
  {
   "cell_type": "code",
   "execution_count": 26,
   "metadata": {},
   "outputs": [],
   "source": [
    "X_train_sc, X_test_sc, y_train_sc, y_test_sc = train_test_split(X,y)"
   ]
  },
  {
   "cell_type": "code",
   "execution_count": 27,
   "metadata": {},
   "outputs": [],
   "source": [
    "svr_params = {\n",
    "    'C': np.logspace(-3,3,5)\n",
    "}"
   ]
  },
  {
   "cell_type": "code",
   "execution_count": 28,
   "metadata": {},
   "outputs": [],
   "source": [
    "svr_gs = GridSearchCV(SVR(), param_grid= svr_params, cv=10)"
   ]
  },
  {
   "cell_type": "code",
   "execution_count": 29,
   "metadata": {},
   "outputs": [
    {
     "data": {
      "text/plain": [
       "GridSearchCV(cv=10, error_score='raise',\n",
       "       estimator=SVR(C=1.0, cache_size=200, coef0=0.0, degree=3, epsilon=0.1, gamma='auto',\n",
       "  kernel='rbf', max_iter=-1, shrinking=True, tol=0.001, verbose=False),\n",
       "       fit_params=None, iid=True, n_jobs=1,\n",
       "       param_grid={'C': array([  1.00000e-03,   3.16228e-02,   1.00000e+00,   3.16228e+01,\n",
       "         1.00000e+03])},\n",
       "       pre_dispatch='2*n_jobs', refit=True, return_train_score='warn',\n",
       "       scoring=None, verbose=0)"
      ]
     },
     "execution_count": 29,
     "metadata": {},
     "output_type": "execute_result"
    }
   ],
   "source": [
    "svr_gs.fit(X_train_sc, y_train_sc)"
   ]
  },
  {
   "cell_type": "code",
   "execution_count": 30,
   "metadata": {},
   "outputs": [
    {
     "data": {
      "text/plain": [
       "(0.99280248435147178, 0.82497448525405137)"
      ]
     },
     "execution_count": 30,
     "metadata": {},
     "output_type": "execute_result"
    }
   ],
   "source": [
    "svr_gs.score(X_train_sc, y_train_sc), svr_gs.score(X_test_sc, y_test_sc)"
   ]
  },
  {
   "cell_type": "code",
   "execution_count": 31,
   "metadata": {},
   "outputs": [
    {
     "name": "stderr",
     "output_type": "stream",
     "text": [
      "/opt/conda/lib/python3.6/site-packages/sklearn/utils/deprecation.py:122: FutureWarning: You are accessing a training score ('mean_train_score'), which will not be available by default any more in 0.21. If you need training scores, please set return_train_score=True\n",
      "  warnings.warn(*warn_args, **warn_kwargs)\n",
      "/opt/conda/lib/python3.6/site-packages/sklearn/utils/deprecation.py:122: FutureWarning: You are accessing a training score ('split0_train_score'), which will not be available by default any more in 0.21. If you need training scores, please set return_train_score=True\n",
      "  warnings.warn(*warn_args, **warn_kwargs)\n",
      "/opt/conda/lib/python3.6/site-packages/sklearn/utils/deprecation.py:122: FutureWarning: You are accessing a training score ('split1_train_score'), which will not be available by default any more in 0.21. If you need training scores, please set return_train_score=True\n",
      "  warnings.warn(*warn_args, **warn_kwargs)\n",
      "/opt/conda/lib/python3.6/site-packages/sklearn/utils/deprecation.py:122: FutureWarning: You are accessing a training score ('split2_train_score'), which will not be available by default any more in 0.21. If you need training scores, please set return_train_score=True\n",
      "  warnings.warn(*warn_args, **warn_kwargs)\n",
      "/opt/conda/lib/python3.6/site-packages/sklearn/utils/deprecation.py:122: FutureWarning: You are accessing a training score ('split3_train_score'), which will not be available by default any more in 0.21. If you need training scores, please set return_train_score=True\n",
      "  warnings.warn(*warn_args, **warn_kwargs)\n",
      "/opt/conda/lib/python3.6/site-packages/sklearn/utils/deprecation.py:122: FutureWarning: You are accessing a training score ('split4_train_score'), which will not be available by default any more in 0.21. If you need training scores, please set return_train_score=True\n",
      "  warnings.warn(*warn_args, **warn_kwargs)\n",
      "/opt/conda/lib/python3.6/site-packages/sklearn/utils/deprecation.py:122: FutureWarning: You are accessing a training score ('split5_train_score'), which will not be available by default any more in 0.21. If you need training scores, please set return_train_score=True\n",
      "  warnings.warn(*warn_args, **warn_kwargs)\n",
      "/opt/conda/lib/python3.6/site-packages/sklearn/utils/deprecation.py:122: FutureWarning: You are accessing a training score ('split6_train_score'), which will not be available by default any more in 0.21. If you need training scores, please set return_train_score=True\n",
      "  warnings.warn(*warn_args, **warn_kwargs)\n",
      "/opt/conda/lib/python3.6/site-packages/sklearn/utils/deprecation.py:122: FutureWarning: You are accessing a training score ('split7_train_score'), which will not be available by default any more in 0.21. If you need training scores, please set return_train_score=True\n",
      "  warnings.warn(*warn_args, **warn_kwargs)\n",
      "/opt/conda/lib/python3.6/site-packages/sklearn/utils/deprecation.py:122: FutureWarning: You are accessing a training score ('split8_train_score'), which will not be available by default any more in 0.21. If you need training scores, please set return_train_score=True\n",
      "  warnings.warn(*warn_args, **warn_kwargs)\n",
      "/opt/conda/lib/python3.6/site-packages/sklearn/utils/deprecation.py:122: FutureWarning: You are accessing a training score ('split9_train_score'), which will not be available by default any more in 0.21. If you need training scores, please set return_train_score=True\n",
      "  warnings.warn(*warn_args, **warn_kwargs)\n",
      "/opt/conda/lib/python3.6/site-packages/sklearn/utils/deprecation.py:122: FutureWarning: You are accessing a training score ('std_train_score'), which will not be available by default any more in 0.21. If you need training scores, please set return_train_score=True\n",
      "  warnings.warn(*warn_args, **warn_kwargs)\n"
     ]
    },
    {
     "data": {
      "text/html": [
       "<div>\n",
       "<style scoped>\n",
       "    .dataframe tbody tr th:only-of-type {\n",
       "        vertical-align: middle;\n",
       "    }\n",
       "\n",
       "    .dataframe tbody tr th {\n",
       "        vertical-align: top;\n",
       "    }\n",
       "\n",
       "    .dataframe thead th {\n",
       "        text-align: right;\n",
       "    }\n",
       "</style>\n",
       "<table border=\"1\" class=\"dataframe\">\n",
       "  <thead>\n",
       "    <tr style=\"text-align: right;\">\n",
       "      <th></th>\n",
       "      <th>mean_fit_time</th>\n",
       "      <th>mean_score_time</th>\n",
       "      <th>mean_test_score</th>\n",
       "      <th>mean_train_score</th>\n",
       "      <th>param_C</th>\n",
       "      <th>params</th>\n",
       "      <th>rank_test_score</th>\n",
       "      <th>split0_test_score</th>\n",
       "      <th>split0_train_score</th>\n",
       "      <th>split1_test_score</th>\n",
       "      <th>...</th>\n",
       "      <th>split7_test_score</th>\n",
       "      <th>split7_train_score</th>\n",
       "      <th>split8_test_score</th>\n",
       "      <th>split8_train_score</th>\n",
       "      <th>split9_test_score</th>\n",
       "      <th>split9_train_score</th>\n",
       "      <th>std_fit_time</th>\n",
       "      <th>std_score_time</th>\n",
       "      <th>std_test_score</th>\n",
       "      <th>std_train_score</th>\n",
       "    </tr>\n",
       "  </thead>\n",
       "  <tbody>\n",
       "    <tr>\n",
       "      <th>0</th>\n",
       "      <td>0.424763</td>\n",
       "      <td>0.044977</td>\n",
       "      <td>-0.029047</td>\n",
       "      <td>-0.024797</td>\n",
       "      <td>0.001</td>\n",
       "      <td>{'C': 0.001}</td>\n",
       "      <td>5</td>\n",
       "      <td>-0.021286</td>\n",
       "      <td>-0.024881</td>\n",
       "      <td>0.000371</td>\n",
       "      <td>...</td>\n",
       "      <td>-0.043509</td>\n",
       "      <td>-0.024570</td>\n",
       "      <td>-0.066268</td>\n",
       "      <td>-0.023538</td>\n",
       "      <td>0.016854</td>\n",
       "      <td>-0.025984</td>\n",
       "      <td>0.019352</td>\n",
       "      <td>0.000330</td>\n",
       "      <td>0.032912</td>\n",
       "      <td>0.001139</td>\n",
       "    </tr>\n",
       "    <tr>\n",
       "      <th>1</th>\n",
       "      <td>0.360343</td>\n",
       "      <td>0.038693</td>\n",
       "      <td>0.341665</td>\n",
       "      <td>0.354017</td>\n",
       "      <td>0.0316228</td>\n",
       "      <td>{'C': 0.0316227766017}</td>\n",
       "      <td>4</td>\n",
       "      <td>0.293256</td>\n",
       "      <td>0.360772</td>\n",
       "      <td>0.364902</td>\n",
       "      <td>...</td>\n",
       "      <td>0.307013</td>\n",
       "      <td>0.358725</td>\n",
       "      <td>0.302686</td>\n",
       "      <td>0.354691</td>\n",
       "      <td>0.521178</td>\n",
       "      <td>0.335712</td>\n",
       "      <td>0.003087</td>\n",
       "      <td>0.000423</td>\n",
       "      <td>0.097930</td>\n",
       "      <td>0.012458</td>\n",
       "    </tr>\n",
       "    <tr>\n",
       "      <th>2</th>\n",
       "      <td>0.313700</td>\n",
       "      <td>0.032479</td>\n",
       "      <td>0.731857</td>\n",
       "      <td>0.884530</td>\n",
       "      <td>1</td>\n",
       "      <td>{'C': 1.0}</td>\n",
       "      <td>3</td>\n",
       "      <td>0.719947</td>\n",
       "      <td>0.880320</td>\n",
       "      <td>0.760044</td>\n",
       "      <td>...</td>\n",
       "      <td>0.725108</td>\n",
       "      <td>0.878567</td>\n",
       "      <td>0.787537</td>\n",
       "      <td>0.877452</td>\n",
       "      <td>0.869751</td>\n",
       "      <td>0.878278</td>\n",
       "      <td>0.003925</td>\n",
       "      <td>0.000555</td>\n",
       "      <td>0.136027</td>\n",
       "      <td>0.012617</td>\n",
       "    </tr>\n",
       "    <tr>\n",
       "      <th>3</th>\n",
       "      <td>0.323937</td>\n",
       "      <td>0.033180</td>\n",
       "      <td>0.743407</td>\n",
       "      <td>0.992734</td>\n",
       "      <td>31.6228</td>\n",
       "      <td>{'C': 31.6227766017}</td>\n",
       "      <td>1</td>\n",
       "      <td>0.745541</td>\n",
       "      <td>0.992758</td>\n",
       "      <td>0.776681</td>\n",
       "      <td>...</td>\n",
       "      <td>0.745276</td>\n",
       "      <td>0.992475</td>\n",
       "      <td>0.816307</td>\n",
       "      <td>0.992664</td>\n",
       "      <td>0.851609</td>\n",
       "      <td>0.992951</td>\n",
       "      <td>0.005356</td>\n",
       "      <td>0.000532</td>\n",
       "      <td>0.126548</td>\n",
       "      <td>0.000131</td>\n",
       "    </tr>\n",
       "    <tr>\n",
       "      <th>4</th>\n",
       "      <td>0.325010</td>\n",
       "      <td>0.033147</td>\n",
       "      <td>0.743407</td>\n",
       "      <td>0.992734</td>\n",
       "      <td>1000</td>\n",
       "      <td>{'C': 1000.0}</td>\n",
       "      <td>1</td>\n",
       "      <td>0.745541</td>\n",
       "      <td>0.992758</td>\n",
       "      <td>0.776681</td>\n",
       "      <td>...</td>\n",
       "      <td>0.745276</td>\n",
       "      <td>0.992475</td>\n",
       "      <td>0.816307</td>\n",
       "      <td>0.992664</td>\n",
       "      <td>0.851609</td>\n",
       "      <td>0.992951</td>\n",
       "      <td>0.004979</td>\n",
       "      <td>0.000636</td>\n",
       "      <td>0.126548</td>\n",
       "      <td>0.000131</td>\n",
       "    </tr>\n",
       "  </tbody>\n",
       "</table>\n",
       "<p>5 rows × 31 columns</p>\n",
       "</div>"
      ],
      "text/plain": [
       "   mean_fit_time  mean_score_time  mean_test_score  mean_train_score  \\\n",
       "0       0.424763         0.044977        -0.029047         -0.024797   \n",
       "1       0.360343         0.038693         0.341665          0.354017   \n",
       "2       0.313700         0.032479         0.731857          0.884530   \n",
       "3       0.323937         0.033180         0.743407          0.992734   \n",
       "4       0.325010         0.033147         0.743407          0.992734   \n",
       "\n",
       "     param_C                  params  rank_test_score  split0_test_score  \\\n",
       "0      0.001            {'C': 0.001}                5          -0.021286   \n",
       "1  0.0316228  {'C': 0.0316227766017}                4           0.293256   \n",
       "2          1              {'C': 1.0}                3           0.719947   \n",
       "3    31.6228    {'C': 31.6227766017}                1           0.745541   \n",
       "4       1000           {'C': 1000.0}                1           0.745541   \n",
       "\n",
       "   split0_train_score  split1_test_score       ...         split7_test_score  \\\n",
       "0           -0.024881           0.000371       ...                 -0.043509   \n",
       "1            0.360772           0.364902       ...                  0.307013   \n",
       "2            0.880320           0.760044       ...                  0.725108   \n",
       "3            0.992758           0.776681       ...                  0.745276   \n",
       "4            0.992758           0.776681       ...                  0.745276   \n",
       "\n",
       "   split7_train_score  split8_test_score  split8_train_score  \\\n",
       "0           -0.024570          -0.066268           -0.023538   \n",
       "1            0.358725           0.302686            0.354691   \n",
       "2            0.878567           0.787537            0.877452   \n",
       "3            0.992475           0.816307            0.992664   \n",
       "4            0.992475           0.816307            0.992664   \n",
       "\n",
       "   split9_test_score  split9_train_score  std_fit_time  std_score_time  \\\n",
       "0           0.016854           -0.025984      0.019352        0.000330   \n",
       "1           0.521178            0.335712      0.003087        0.000423   \n",
       "2           0.869751            0.878278      0.003925        0.000555   \n",
       "3           0.851609            0.992951      0.005356        0.000532   \n",
       "4           0.851609            0.992951      0.004979        0.000636   \n",
       "\n",
       "   std_test_score  std_train_score  \n",
       "0        0.032912         0.001139  \n",
       "1        0.097930         0.012458  \n",
       "2        0.136027         0.012617  \n",
       "3        0.126548         0.000131  \n",
       "4        0.126548         0.000131  \n",
       "\n",
       "[5 rows x 31 columns]"
      ]
     },
     "execution_count": 31,
     "metadata": {},
     "output_type": "execute_result"
    }
   ],
   "source": [
    "svr_cv_results = pd.DataFrame(svr_gs.cv_results_)\n",
    "svr_cv_results.head()"
   ]
  },
  {
   "cell_type": "code",
   "execution_count": 32,
   "metadata": {},
   "outputs": [
    {
     "data": {
      "text/plain": [
       "<matplotlib.legend.Legend at 0x7f077d193f60>"
      ]
     },
     "execution_count": 32,
     "metadata": {},
     "output_type": "execute_result"
    },
    {
     "data": {
      "image/png": "[encoded data removed]",
      "text/plain": [
       "<matplotlib.figure.Figure at 0x7f077d1cfa58>"
      ]
     },
     "metadata": {},
     "output_type": "display_data"
    }
   ],
   "source": [
    "plt.plot(svr_cv_results.param_C, svr_cv_results.mean_train_score, label='C training scores')\n",
    "plt.plot(svr_cv_results.param_C, svr_cv_results.mean_test_score, label='C testing scores')\n",
    "plt.xscale('log')\n",
    "plt.legend()"
   ]
  },
  {
   "cell_type": "code",
   "execution_count": 33,
   "metadata": {},
   "outputs": [
    {
     "data": {
      "text/plain": [
       "{'C': 31.622776601683793}"
      ]
     },
     "execution_count": 33,
     "metadata": {},
     "output_type": "execute_result"
    }
   ],
   "source": [
    "svr_gs.best_params_"
   ]
  },
  {
   "cell_type": "markdown",
   "metadata": {},
   "source": [
    "By tuning the C value we were able to improve the score on the test data set slightly from 0.81659613910776607 to 0.82497448525405137. The best C paramter for the model is 31.62."
   ]
  }
 ],
 "metadata": {
  "kernelspec": {
   "display_name": "Python 3",
   "language": "python",
   "name": "python3"
  },
  "language_info": {
   "codemirror_mode": {
    "name": "ipython",
    "version": 3
   },
   "file_extension": ".py",
   "mimetype": "text/x-python",
   "name": "python",
   "nbconvert_exporter": "python",
   "pygments_lexer": "ipython3",
   "version": "3.6.4"
  }
 },
 "nbformat": 4,
 "nbformat_minor": 2
}
